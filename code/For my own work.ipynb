{
 "cells": [
  {
   "cell_type": "code",
   "execution_count": 7,
   "metadata": {
    "collapsed": true
   },
   "outputs": [],
   "source": [
    "from __future__ import print_function, division\n",
    "\n",
    "%matplotlib inline\n",
    "%precision 3\n",
    "\n",
    "import warnings\n",
    "warnings.filterwarnings('ignore')\n",
    "\n",
    "import numpy as np\n",
    "import matplotlib.pyplot as plt\n",
    "from scipy.signal import correlate2d\n",
    "\n",
    "import thinkplot\n",
    "\n",
    "from matplotlib import rc\n",
    "rc('animation', html='html5')"
   ]
  },
  {
   "cell_type": "code",
   "execution_count": 8,
   "metadata": {
    "collapsed": true
   },
   "outputs": [],
   "source": [
    "kernel = np.array([[1, 1, 1],\n",
    "                   [1,10, 1],\n",
    "                   [1, 1, 1]])\n",
    "table = np.zeros(20, dtype=np.uint8)\n",
    "table[[3, 12, 13]] = 1\n"
   ]
  },
  {
   "cell_type": "code",
   "execution_count": 13,
   "metadata": {},
   "outputs": [
    {
     "name": "stdout",
     "output_type": "stream",
     "text": [
      "[[1 0 0 0 0 1 0 0 1 1]\n",
      " [1 0 0 1 0 1 0 1 0 0]\n",
      " [1 1 1 0 0 0 0 1 0 0]\n",
      " [1 0 0 1 0 1 1 1 0 0]\n",
      " [1 0 1 1 1 1 1 0 0 1]\n",
      " [0 0 0 0 0 0 1 0 1 1]\n",
      " [0 1 0 0 0 1 1 0 1 0]\n",
      " [1 1 1 1 1 0 1 1 1 0]\n",
      " [1 1 0 1 1 0 0 0 0 1]\n",
      " [0 1 0 0 0 1 1 1 1 0]]\n",
      "[[0 0 0 0 1 0 1 0 1 0]\n",
      " [1 0 1 0 1 0 0 1 0 0]\n",
      " [1 0 1 1 0 1 0 1 1 0]\n",
      " [1 0 0 0 0 0 0 1 1 0]\n",
      " [0 1 1 1 0 0 0 0 0 1]\n",
      " [0 1 1 1 0 0 0 0 1 1]\n",
      " [1 1 0 1 1 0 0 0 0 0]\n",
      " [0 0 0 0 0 0 1 0 1 1]\n",
      " [0 0 0 0 0 0 0 0 0 1]\n",
      " [1 1 1 0 1 1 1 1 1 0]]\n"
     ]
    }
   ],
   "source": [
    "def step(arr, table, kernel):\n",
    "    \"\"\"Executes one time step.\"\"\"\n",
    "    c = correlate2d(arr, kernel, mode='same')\n",
    "    arr = table[c]\n",
    "    print(arr)\n",
    "    \n",
    "a = np.random.randint(2, size=(10, 10)).astype(np.uint8)\n",
    "print(a)\n",
    "step(a, table, kernel)"
   ]
  },
  {
   "cell_type": "code",
   "execution_count": 15,
   "metadata": {},
   "outputs": [
    {
     "name": "stdout",
     "output_type": "stream",
     "text": [
      "[[1 0 0 0 0 1 0 0 1 1]\n",
      " [1 0 0 1 0 1 0 1 0 0]\n",
      " [1 1 1 0 0 0 0 1 0 0]\n",
      " [1 0 0 1 0 1 1 1 0 0]\n",
      " [1 0 1 1 1 1 1 0 0 1]\n",
      " [0 0 0 0 0 0 1 0 1 1]\n",
      " [0 1 0 0 0 1 1 0 1 0]\n",
      " [1 1 1 1 1 0 1 1 1 0]\n",
      " [1 1 0 1 1 0 0 0 0 1]\n",
      " [0 1 0 0 0 1 1 1 1 0]]\n",
      "[[0 0 1 1 1 0 1 0 1 0]\n",
      " [0 1 1 0 1 0 0 1 0 0]\n",
      " [0 1 0 1 0 1 0 0 1 0]\n",
      " [0 0 1 1 1 1 0 0 1 1]\n",
      " [0 1 1 0 1 0 0 1 0 1]\n",
      " [0 1 1 1 0 0 1 1 0 0]\n",
      " [1 0 0 1 1 1 1 1 1 0]\n",
      " [1 0 0 1 1 1 0 1 0 1]\n",
      " [1 0 0 1 1 1 1 0 1 1]\n",
      " [1 1 1 0 1 1 1 1 1 0]]\n"
     ]
    }
   ],
   "source": [
    "print(a)\n",
    "def step(arr):\n",
    "    \"\"\"Executes one time step.\"\"\"\n",
    "    kernel = np.array([[1, 1, 1],\n",
    "                   [1,1, 1],\n",
    "                   [1, 1, 1]])\n",
    "    table = np.zeros(20, dtype=np.uint8)\n",
    "    table[[1,3,5,7,9]] = 1\n",
    "    c = correlate2d(arr, kernel, mode='same')\n",
    "    arr = table[c]\n",
    "    print(arr)\n",
    "    \n",
    "step(a)\n",
    "    "
   ]
  },
  {
   "cell_type": "code",
   "execution_count": 9,
   "metadata": {},
   "outputs": [
    {
     "name": "stdout",
     "output_type": "stream",
     "text": [
      "0.674383290147\n"
     ]
    }
   ],
   "source": [
    "from scipy.stats import linregress\n",
    "import numpy as np\n",
    "v = [1, 3, 5]\n",
    "m = [3, 6, 9]\n",
    "for ys in [v, m]:\n",
    "    p = linregress(np.log(v), np.log(ys))\n",
    "print p[0]"
   ]
  },
  {
   "cell_type": "code",
   "execution_count": null,
   "metadata": {
    "collapsed": true
   },
   "outputs": [],
   "source": []
  }
 ],
 "metadata": {
  "kernelspec": {
   "display_name": "Python 2",
   "language": "python",
   "name": "python2"
  },
  "language_info": {
   "codemirror_mode": {
    "name": "ipython",
    "version": 2
   },
   "file_extension": ".py",
   "mimetype": "text/x-python",
   "name": "python",
   "nbconvert_exporter": "python",
   "pygments_lexer": "ipython2",
   "version": "2.7.13"
  }
 },
 "nbformat": 4,
 "nbformat_minor": 2
}
