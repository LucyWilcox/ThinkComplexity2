{
 "cells": [
  {
   "cell_type": "markdown",
   "metadata": {},
   "source": [
    "# Evolution of cooperation\n",
    "\n",
    "Code examples from [Think Complexity, 2nd edition](http://greenteapress.com/wp/complexity2), Chapter 12\n",
    "\n",
    "Copyright 2016 Allen Downey, [MIT License](http://opensource.org/licenses/MIT)"
   ]
  },
  {
   "cell_type": "code",
   "execution_count": 65,
   "metadata": {
    "collapsed": true
   },
   "outputs": [],
   "source": [
    "from __future__ import print_function, division\n",
    "\n",
    "%matplotlib inline\n",
    "%precision 3\n",
    "\n",
    "import warnings\n",
    "warnings.filterwarnings('ignore')\n",
    "\n",
    "from copy import copy\n",
    "\n",
    "import numpy as np\n",
    "from numpy.random import rand, randint, permutation\n",
    "\n",
    "from thinkstats2 import RandomSeed\n",
    "\n",
    "import thinkplot"
   ]
  },
  {
   "cell_type": "code",
   "execution_count": 180,
   "metadata": {},
   "outputs": [],
   "source": [
    "class Agent:\n",
    "    \n",
    "    keys = [(None, None),\n",
    "            (None, 'C'),\n",
    "            (None, 'D'),\n",
    "            ('C', 'C'),\n",
    "            ('C', 'D'),\n",
    "            ('D', 'C'),\n",
    "            ('D', 'D')]\n",
    "    \n",
    "    def __init__(self, values):\n",
    "        self.responses = dict(zip(self.keys, values))\n",
    "        \n",
    "    def copy(self):\n",
    "        return Agent(self.responses.values())\n",
    "\n",
    "    def reset(self):\n",
    "        self.hist = [None, None]\n",
    "        self.score = 0\n",
    "        \n",
    "    def last_two_responses(self):\n",
    "        return tuple(self.hist[-2:])\n",
    "    \n",
    "    def respond(self, other):\n",
    "        key = other.last_two_responses()\n",
    "        resp = self.responses[key]\n",
    "        return resp\n",
    "        \n",
    "    def append(self, resp, pay):\n",
    "        self.hist.append(resp)\n",
    "        self.score += pay"
   ]
  },
  {
   "cell_type": "code",
   "execution_count": 181,
   "metadata": {},
   "outputs": [
    {
     "data": {
      "text/plain": [
       "{(None, None): 'C',\n",
       " (None, 'C'): 'C',\n",
       " (None, 'D'): 'C',\n",
       " ('C', 'C'): 'C',\n",
       " ('C', 'D'): 'C',\n",
       " ('D', 'C'): 'C',\n",
       " ('D', 'D'): 'C'}"
      ]
     },
     "execution_count": 181,
     "metadata": {},
     "output_type": "execute_result"
    }
   ],
   "source": [
    "all_c = Agent('CCCCCCC')\n",
    "all_c.responses"
   ]
  },
  {
   "cell_type": "code",
   "execution_count": 182,
   "metadata": {},
   "outputs": [
    {
     "data": {
      "text/plain": [
       "{(None, None): 'D',\n",
       " (None, 'C'): 'D',\n",
       " (None, 'D'): 'D',\n",
       " ('C', 'C'): 'D',\n",
       " ('C', 'D'): 'D',\n",
       " ('D', 'C'): 'D',\n",
       " ('D', 'D'): 'D'}"
      ]
     },
     "execution_count": 182,
     "metadata": {},
     "output_type": "execute_result"
    }
   ],
   "source": [
    "all_d = Agent('DDDDDDD')\n",
    "all_d.responses"
   ]
  },
  {
   "cell_type": "code",
   "execution_count": 183,
   "metadata": {},
   "outputs": [
    {
     "data": {
      "text/plain": [
       "{(None, None): 'C',\n",
       " (None, 'C'): 'C',\n",
       " (None, 'D'): 'D',\n",
       " ('C', 'C'): 'C',\n",
       " ('C', 'D'): 'D',\n",
       " ('D', 'C'): 'C',\n",
       " ('D', 'D'): 'D'}"
      ]
     },
     "execution_count": 183,
     "metadata": {},
     "output_type": "execute_result"
    }
   ],
   "source": [
    "tft = Agent('CCDCDCD')\n",
    "tft.responses"
   ]
  },
  {
   "cell_type": "code",
   "execution_count": 184,
   "metadata": {},
   "outputs": [],
   "source": [
    "class Tournament:\n",
    "    num_rounds = 20\n",
    "        \n",
    "    payoffs = {('C', 'C'): (3, 3),\n",
    "              ('C', 'D'): (0, 5),\n",
    "              ('D', 'C'): (5, 0),\n",
    "              ('D', 'D'): (1, 1)}\n",
    "    \n",
    "    def play(self, agent1, agent2):\n",
    "        agent1.reset()\n",
    "        agent2.reset()\n",
    "        \n",
    "        for i in range(self.num_rounds):\n",
    "            resp1 = agent1.respond(agent2)\n",
    "            resp2 = agent2.respond(agent1)\n",
    "\n",
    "            pay1, pay2 = self.payoffs[resp1, resp2]\n",
    "            \n",
    "            agent1.append(resp1, pay1)\n",
    "            agent2.append(resp2, pay2)\n",
    "            #print(resp1, resp2, pay1, pay2)\n",
    "            \n",
    "        return agent1.score, agent2.score\n",
    "        \n",
    "    def melee(self, agents):\n",
    "        \n",
    "        n = len(agents)\n",
    "        i_row = np.arange(n)\n",
    "        np.random.shuffle(i_row)\n",
    "        j_row = (i_row + 1) % n\n",
    "        totals = np.zeros(n)\n",
    "        \n",
    "        for i, j in zip(i_row, j_row):\n",
    "            agent1, agent2 = agents[i], agents[j]\n",
    "            score1, score2 = self.play(agent1, agent2)\n",
    "            totals[i] += score1\n",
    "            totals[j] += score2\n",
    "        \n",
    "        for i in i_row:\n",
    "            agents[i].fitness = totals[i]"
   ]
  },
  {
   "cell_type": "code",
   "execution_count": 185,
   "metadata": {},
   "outputs": [
    {
     "data": {
      "text/plain": [
       "(24, 19)"
      ]
     },
     "execution_count": 185,
     "metadata": {},
     "output_type": "execute_result"
    }
   ],
   "source": [
    "tour = Tournament()\n",
    "tour.play(all_d, tft)"
   ]
  },
  {
   "cell_type": "code",
   "execution_count": 186,
   "metadata": {},
   "outputs": [
    {
     "data": {
      "text/plain": [
       "[<__main__.Agent at 0x7f53021f5d68>,\n",
       " <__main__.Agent at 0x7f53021df320>,\n",
       " <__main__.Agent at 0x7f53021dfe48>]"
      ]
     },
     "execution_count": 186,
     "metadata": {},
     "output_type": "execute_result"
    }
   ],
   "source": [
    "agents = [all_c, all_d, tft]\n",
    "agents"
   ]
  },
  {
   "cell_type": "code",
   "execution_count": 187,
   "metadata": {},
   "outputs": [],
   "source": [
    "tour.melee(agents)"
   ]
  },
  {
   "cell_type": "code",
   "execution_count": 188,
   "metadata": {
    "collapsed": true
   },
   "outputs": [],
   "source": [
    "def logistic(x, A=0, B=1, C=1, M=0, K=1, Q=1, nu=1):\n",
    "    \"\"\"Computes the generalize logistic function.\n",
    "    \n",
    "    A: controls the lower bound\n",
    "    B: controls the steepness of the transition \n",
    "    C: not all that useful, AFAIK\n",
    "    M: controls the location of the transition\n",
    "    K: controls the upper bound\n",
    "    Q: shift the transition left or right\n",
    "    nu: affects the symmetry of the transition\n",
    "    \n",
    "    returns: float or array\n",
    "    \"\"\"\n",
    "    exponent = -B * (x - M)\n",
    "    denom = C + Q * np.exp(exponent)\n",
    "    return A + (K-A) / denom ** (1/nu)"
   ]
  },
  {
   "cell_type": "code",
   "execution_count": 236,
   "metadata": {
    "collapsed": true
   },
   "outputs": [],
   "source": [
    "from scipy.stats import zscore\n",
    "\n",
    "def prob_surv(scores):\n",
    "    zs = zscore(scores)\n",
    "    zs = np.where(np.isnan(zs), 4, zs)\n",
    "    return logistic(zs, A=0.5, B=2, K=0.9)"
   ]
  },
  {
   "cell_type": "code",
   "execution_count": 237,
   "metadata": {},
   "outputs": [
    {
     "data": {
      "text/plain": [
       "array([   0.   ,    2.041,    4.082,    6.122,    8.163,   10.204,\n",
       "         12.245,   14.286,   16.327,   18.367,   20.408,   22.449,\n",
       "         24.49 ,   26.531,   28.571,   30.612,   32.653,   34.694,\n",
       "         36.735,   38.776,   40.816,   42.857,   44.898,   46.939,\n",
       "         48.98 ,   51.02 ,   53.061,   55.102,   57.143,   59.184,\n",
       "         61.224,   63.265,   65.306,   67.347,   69.388,   71.429,\n",
       "         73.469,   75.51 ,   77.551,   79.592,   81.633,   83.673,\n",
       "         85.714,   87.755,   89.796,   91.837,   93.878,   95.918,\n",
       "         97.959,  100.   ])"
      ]
     },
     "execution_count": 237,
     "metadata": {},
     "output_type": "execute_result"
    }
   ],
   "source": [
    "scores = np.linspace(0, 100)\n",
    "scores"
   ]
  },
  {
   "cell_type": "code",
   "execution_count": 238,
   "metadata": {},
   "outputs": [
    {
     "data": {
      "image/png": "[encoded data removed]",
      "text/plain": [
       "<matplotlib.figure.Figure at 0x7f5301ef8358>"
      ]
     },
     "metadata": {},
     "output_type": "display_data"
    }
   ],
   "source": [
    "probs = prob_surv(scores)\n",
    "thinkplot.plot(zscores, probs)"
   ]
  },
  {
   "cell_type": "code",
   "execution_count": 275,
   "metadata": {
    "collapsed": true
   },
   "outputs": [],
   "source": [
    "class Simulation:\n",
    "    \n",
    "    def __init__(self, tournament, agents):\n",
    "        \"\"\"Create the simulation:\n",
    "        \n",
    "        tournament: Tournament object\n",
    "        agents: sequence of agents\n",
    "        \"\"\"\n",
    "        self.tournament = tournament\n",
    "        self.agents = np.asarray(agents)\n",
    "        self.instruments = []\n",
    "        \n",
    "    def add_instrument(self, instrument):\n",
    "        \"\"\"Adds an instrument to the list.\n",
    "        \n",
    "        instrument: Instrument object\n",
    "        \"\"\"\n",
    "        self.instruments.append(instrument)\n",
    "        \n",
    "    def plot(self, index, *args, **kwargs):\n",
    "        \"\"\"Plot the results from the indicated instrument.\n",
    "        \"\"\"\n",
    "        self.instruments[index].plot(*args, **kwargs)\n",
    "        \n",
    "    def run(self, num_steps=100):\n",
    "        \"\"\"Run the given number of steps.\n",
    "        \n",
    "        num_steps: integer\n",
    "        \"\"\"\n",
    "        # initialize any instruments before starting\n",
    "        self.update_instruments()\n",
    "        \n",
    "        for _ in range(num_steps):\n",
    "            self.step()\n",
    "        \n",
    "    def step(self):\n",
    "        \"\"\"Simulate a time step and update the instruments.\n",
    "        \"\"\"\n",
    "        self.tournament.melee(self.agents)\n",
    "        fits = self.get_fitnesses()\n",
    "        ps = prob_surv(fits)\n",
    "        \n",
    "        # see who dies\n",
    "        index_dead = self.choose_dead(ps)\n",
    "        num_dead = len(index_dead)\n",
    "        \n",
    "        # replace the dead with copies of the living\n",
    "        replacements = self.choose_replacements(num_dead, fits)\n",
    "        self.agents[index_dead] = replacements\n",
    "\n",
    "        # update any instruments\n",
    "        self.update_instruments()\n",
    "        \n",
    "    def update_instruments(self):\n",
    "        for instrument in self.instruments:\n",
    "            instrument.update(self)\n",
    "            \n",
    "    def get_locs(self):\n",
    "        \"\"\"Returns a list of agent locations.\"\"\"\n",
    "        return [tuple(agent.loc) for agent in self.agents]\n",
    "    \n",
    "    def get_fitnesses(self):\n",
    "        \"\"\"Returns an array of agent fitnesses.\"\"\"\n",
    "        fits = [agent.fitness for agent in self.agents]\n",
    "        return np.array(fits)\n",
    "    \n",
    "    def choose_dead(self, ps):\n",
    "        \"\"\"Choose which agents die in the next timestep.\n",
    "        \n",
    "        ps: probability of survival for each agent\n",
    "        \n",
    "        returns: indices of the chosen ones\n",
    "        \"\"\"\n",
    "        n = len(self.agents)\n",
    "        is_dead = np.random.random(n) < ps\n",
    "        index_dead = np.nonzero(is_dead)[0]\n",
    "        return index_dead\n",
    "        \n",
    "    def choose_replacements(self, n, fits):\n",
    "        \"\"\"Choose which agents reproduce in the next timestep.\n",
    "        \n",
    "        n: number of choices\n",
    "        fits: array of fitnesses\n",
    "        \n",
    "        returns: sequence of Agent objects\n",
    "        \"\"\"\n",
    "        agents = np.random.choice(self.agents, size=n, replace=True)\n",
    "        replacements = [agent.copy() for agent in agents]\n",
    "        return replacements"
   ]
  },
  {
   "cell_type": "code",
   "execution_count": 290,
   "metadata": {},
   "outputs": [],
   "source": [
    "def make_random_agents(n):\n",
    "    agents = []\n",
    "    for _ in range(n):\n",
    "        values = np.random.choice(['C', 'D'], size=7)\n",
    "        agent = Agent(values)\n",
    "        agents.append(agent)\n",
    "    return agents\n",
    "\n",
    "agents = make_random_agents(100)"
   ]
  },
  {
   "cell_type": "code",
   "execution_count": 291,
   "metadata": {
    "collapsed": true
   },
   "outputs": [],
   "source": [
    "tour = Tournament()\n",
    "sim = Simulation(tour, agents)"
   ]
  },
  {
   "cell_type": "code",
   "execution_count": 292,
   "metadata": {},
   "outputs": [],
   "source": [
    "sim.run()"
   ]
  },
  {
   "cell_type": "code",
   "execution_count": 293,
   "metadata": {},
   "outputs": [
    {
     "name": "stdout",
     "output_type": "stream",
     "text": [
      "dict_values(['C', 'D', 'D', 'C', 'C', 'C', 'D'])\n",
      "dict_values(['C', 'D', 'C', 'C', 'C', 'C', 'D'])\n",
      "dict_values(['C', 'D', 'D', 'C', 'C', 'C', 'D'])\n",
      "dict_values(['C', 'D', 'D', 'C', 'C', 'C', 'D'])\n",
      "dict_values(['C', 'D', 'C', 'C', 'C', 'C', 'D'])\n",
      "dict_values(['C', 'D', 'C', 'C', 'C', 'C', 'D'])\n",
      "dict_values(['C', 'D', 'C', 'C', 'C', 'C', 'D'])\n",
      "dict_values(['C', 'D', 'D', 'C', 'C', 'C', 'D'])\n",
      "dict_values(['C', 'D', 'D', 'C', 'C', 'C', 'D'])\n",
      "dict_values(['C', 'D', 'D', 'C', 'C', 'C', 'D'])\n",
      "dict_values(['C', 'D', 'C', 'C', 'C', 'C', 'D'])\n",
      "dict_values(['C', 'D', 'C', 'C', 'C', 'C', 'D'])\n",
      "dict_values(['C', 'D', 'C', 'C', 'C', 'C', 'D'])\n",
      "dict_values(['C', 'D', 'C', 'C', 'C', 'C', 'D'])\n",
      "dict_values(['C', 'D', 'C', 'C', 'C', 'C', 'D'])\n",
      "dict_values(['C', 'D', 'C', 'C', 'C', 'C', 'D'])\n",
      "dict_values(['C', 'D', 'D', 'C', 'C', 'C', 'D'])\n",
      "dict_values(['C', 'D', 'C', 'C', 'C', 'C', 'D'])\n",
      "dict_values(['C', 'D', 'C', 'C', 'C', 'C', 'D'])\n",
      "dict_values(['C', 'D', 'C', 'C', 'C', 'C', 'D'])\n",
      "dict_values(['C', 'D', 'C', 'C', 'C', 'C', 'D'])\n",
      "dict_values(['C', 'D', 'C', 'C', 'C', 'C', 'D'])\n",
      "dict_values(['C', 'D', 'C', 'C', 'C', 'C', 'D'])\n",
      "dict_values(['C', 'D', 'C', 'C', 'C', 'C', 'D'])\n",
      "dict_values(['C', 'D', 'C', 'C', 'C', 'C', 'D'])\n",
      "dict_values(['C', 'D', 'C', 'C', 'C', 'C', 'D'])\n",
      "dict_values(['C', 'D', 'C', 'C', 'C', 'C', 'D'])\n",
      "dict_values(['C', 'D', 'C', 'C', 'C', 'C', 'D'])\n",
      "dict_values(['C', 'D', 'D', 'C', 'C', 'C', 'D'])\n",
      "dict_values(['C', 'D', 'C', 'C', 'C', 'C', 'D'])\n",
      "dict_values(['C', 'D', 'C', 'C', 'C', 'C', 'D'])\n",
      "dict_values(['C', 'D', 'D', 'C', 'C', 'C', 'D'])\n",
      "dict_values(['C', 'D', 'C', 'C', 'C', 'C', 'D'])\n",
      "dict_values(['C', 'D', 'C', 'C', 'C', 'C', 'D'])\n",
      "dict_values(['C', 'D', 'C', 'C', 'C', 'C', 'D'])\n",
      "dict_values(['C', 'D', 'C', 'C', 'C', 'C', 'D'])\n",
      "dict_values(['C', 'D', 'C', 'C', 'C', 'C', 'D'])\n",
      "dict_values(['C', 'D', 'C', 'C', 'C', 'C', 'D'])\n",
      "dict_values(['C', 'D', 'C', 'C', 'C', 'C', 'D'])\n",
      "dict_values(['C', 'D', 'C', 'C', 'C', 'C', 'D'])\n",
      "dict_values(['C', 'D', 'C', 'C', 'C', 'C', 'D'])\n",
      "dict_values(['C', 'D', 'C', 'C', 'C', 'C', 'D'])\n",
      "dict_values(['C', 'D', 'D', 'C', 'C', 'C', 'D'])\n",
      "dict_values(['C', 'D', 'D', 'C', 'C', 'C', 'D'])\n",
      "dict_values(['C', 'D', 'C', 'C', 'C', 'C', 'D'])\n",
      "dict_values(['C', 'D', 'D', 'C', 'C', 'C', 'D'])\n",
      "dict_values(['C', 'D', 'D', 'C', 'C', 'C', 'D'])\n",
      "dict_values(['C', 'D', 'C', 'C', 'C', 'C', 'D'])\n",
      "dict_values(['C', 'D', 'D', 'C', 'C', 'C', 'D'])\n",
      "dict_values(['C', 'D', 'D', 'C', 'C', 'C', 'D'])\n",
      "dict_values(['C', 'D', 'C', 'C', 'C', 'C', 'D'])\n",
      "dict_values(['C', 'D', 'D', 'C', 'C', 'C', 'D'])\n",
      "dict_values(['C', 'D', 'C', 'C', 'C', 'C', 'D'])\n",
      "dict_values(['C', 'D', 'D', 'C', 'C', 'C', 'D'])\n",
      "dict_values(['C', 'D', 'C', 'C', 'C', 'C', 'D'])\n",
      "dict_values(['C', 'D', 'D', 'C', 'C', 'C', 'D'])\n",
      "dict_values(['C', 'D', 'D', 'C', 'C', 'C', 'D'])\n",
      "dict_values(['C', 'D', 'C', 'C', 'C', 'C', 'D'])\n",
      "dict_values(['C', 'D', 'C', 'C', 'C', 'C', 'D'])\n",
      "dict_values(['C', 'D', 'C', 'C', 'C', 'C', 'D'])\n",
      "dict_values(['C', 'D', 'D', 'C', 'C', 'C', 'D'])\n",
      "dict_values(['C', 'D', 'C', 'C', 'C', 'C', 'D'])\n",
      "dict_values(['C', 'D', 'C', 'C', 'C', 'C', 'D'])\n",
      "dict_values(['C', 'D', 'C', 'C', 'C', 'C', 'D'])\n",
      "dict_values(['C', 'D', 'C', 'C', 'C', 'C', 'D'])\n",
      "dict_values(['C', 'D', 'C', 'C', 'C', 'C', 'D'])\n",
      "dict_values(['C', 'D', 'D', 'C', 'C', 'C', 'D'])\n",
      "dict_values(['C', 'D', 'C', 'C', 'C', 'C', 'D'])\n",
      "dict_values(['C', 'D', 'C', 'C', 'C', 'C', 'D'])\n",
      "dict_values(['C', 'D', 'C', 'C', 'C', 'C', 'D'])\n",
      "dict_values(['C', 'D', 'D', 'C', 'C', 'C', 'D'])\n",
      "dict_values(['C', 'D', 'D', 'C', 'C', 'C', 'D'])\n",
      "dict_values(['C', 'D', 'C', 'C', 'C', 'C', 'D'])\n",
      "dict_values(['C', 'D', 'D', 'C', 'C', 'C', 'D'])\n",
      "dict_values(['C', 'D', 'D', 'C', 'C', 'C', 'D'])\n",
      "dict_values(['C', 'D', 'C', 'C', 'C', 'C', 'D'])\n",
      "dict_values(['C', 'D', 'C', 'C', 'C', 'C', 'D'])\n",
      "dict_values(['C', 'D', 'D', 'C', 'C', 'C', 'D'])\n",
      "dict_values(['C', 'D', 'D', 'C', 'C', 'C', 'D'])\n",
      "dict_values(['C', 'D', 'D', 'C', 'C', 'C', 'D'])\n",
      "dict_values(['C', 'D', 'C', 'C', 'C', 'C', 'D'])\n",
      "dict_values(['C', 'D', 'C', 'C', 'C', 'C', 'D'])\n",
      "dict_values(['C', 'D', 'D', 'C', 'C', 'C', 'D'])\n",
      "dict_values(['C', 'D', 'C', 'C', 'C', 'C', 'D'])\n",
      "dict_values(['C', 'D', 'D', 'C', 'C', 'C', 'D'])\n",
      "dict_values(['C', 'D', 'C', 'C', 'C', 'C', 'D'])\n",
      "dict_values(['C', 'D', 'C', 'C', 'C', 'C', 'D'])\n",
      "dict_values(['C', 'D', 'C', 'C', 'C', 'C', 'D'])\n",
      "dict_values(['C', 'D', 'C', 'C', 'C', 'C', 'D'])\n",
      "dict_values(['C', 'D', 'C', 'C', 'C', 'C', 'D'])\n",
      "dict_values(['C', 'D', 'D', 'C', 'C', 'C', 'D'])\n",
      "dict_values(['C', 'D', 'D', 'C', 'C', 'C', 'D'])\n",
      "dict_values(['C', 'D', 'C', 'C', 'C', 'C', 'D'])\n",
      "dict_values(['C', 'D', 'C', 'C', 'C', 'C', 'D'])\n",
      "dict_values(['C', 'D', 'D', 'C', 'C', 'C', 'D'])\n",
      "dict_values(['C', 'D', 'D', 'C', 'C', 'C', 'D'])\n",
      "dict_values(['C', 'D', 'D', 'C', 'C', 'C', 'D'])\n",
      "dict_values(['C', 'D', 'C', 'C', 'C', 'C', 'D'])\n",
      "dict_values(['C', 'D', 'C', 'C', 'C', 'C', 'D'])\n",
      "dict_values(['C', 'D', 'C', 'C', 'C', 'C', 'D'])\n"
     ]
    }
   ],
   "source": [
    "for agent in sim.agents:\n",
    "    print(agent.responses.values())"
   ]
  },
  {
   "cell_type": "code",
   "execution_count": 270,
   "metadata": {},
   "outputs": [
    {
     "data": {
      "text/plain": [
       "dict_values(['C', 'C', 'D', 'C', 'D', 'C', 'D'])"
      ]
     },
     "execution_count": 270,
     "metadata": {},
     "output_type": "execute_result"
    }
   ],
   "source": [
    "tft.responses.values()"
   ]
  },
  {
   "cell_type": "code",
   "execution_count": null,
   "metadata": {
    "collapsed": true
   },
   "outputs": [],
   "source": []
  }
 ],
 "metadata": {
  "anaconda-cloud": {},
  "kernelspec": {
   "display_name": "Python 3",
   "language": "python",
   "name": "python3"
  },
  "language_info": {
   "codemirror_mode": {
    "name": "ipython",
    "version": 3
   },
   "file_extension": ".py",
   "mimetype": "text/x-python",
   "name": "python",
   "nbconvert_exporter": "python",
   "pygments_lexer": "ipython3",
   "version": "3.6.1"
  }
 },
 "nbformat": 4,
 "nbformat_minor": 1
}
